{
 "cells": [
  {
   "cell_type": "code",
   "execution_count": null,
   "metadata": {},
   "outputs": [],
   "source": [
    "import partitura as pt\n",
    "import numpy as np"
   ]
  },
  {
   "cell_type": "code",
   "execution_count": null,
   "metadata": {},
   "outputs": [],
   "source": [
    "score = pt.load_musicxml('/Users/johan/Documents/MuseScore4/Scores/ChordTest_From_Yamaha_Chord_Guide.musicxml')"
   ]
  },
  {
   "cell_type": "code",
   "execution_count": 3,
   "metadata": {},
   "outputs": [],
   "source": [
    "part = score.parts[0]"
   ]
  },
  {
   "cell_type": "markdown",
   "metadata": {},
   "source": [
    "### Read everything but morphetic pitch straight from score part"
   ]
  },
  {
   "cell_type": "code",
   "execution_count": 10,
   "metadata": {},
   "outputs": [],
   "source": [
    "staff_number = 0\n",
    "notes = []\n",
    "for note_or_staff in part.iter_all():\n",
    "    if isinstance(note_or_staff, pt.score.Staff):\n",
    "        staff_number = note_or_staff.number\n",
    "    elif isinstance(note_or_staff, pt.score.Note):\n",
    "        start_time = note_or_staff.start.t\n",
    "        end_time = note_or_staff.end_tied.t\n",
    "        notes.append((part.quarter_map(start_time), note_or_staff.midi_pitch, part.quarter_map(note_or_staff.duration_tied), staff_number, part.measure_number_map(start_time)))\n",
    "note_array = np.array(notes, dtype=[('onset', 'f4'), ('midi_pitch', 'i4'), ('duration', 'f4'), ('staff', 'i4'), ('measure', 'i4')])"
   ]
  },
  {
   "cell_type": "markdown",
   "metadata": {},
   "source": [
    "### Compute morphetic pitch and add it to note array"
   ]
  },
  {
   "cell_type": "code",
   "execution_count": 11,
   "metadata": {},
   "outputs": [],
   "source": [
    "from partitura.musicanalysis.pitch_spelling import compute_morphetic_pitch, compute_morph_array, compute_chroma_array, compute_chroma_vector_array, chromatic_pitch_from_midi\n",
    "\n",
    "def morphetic_pitch_array(note_array, K_pre=10, K_post=40):\n",
    "    # Adapted from partitura.musicanalysis.pitch_spelling.ps13s1\n",
    "    pitch_sort_idx = note_array['midi_pitch'].argsort()\n",
    "    onset_sort_idx = np.argsort(note_array[pitch_sort_idx]['onset'], kind='mergesort')\n",
    "    sort_idx = pitch_sort_idx[onset_sort_idx]\n",
    "\n",
    "    sorted_ocp = np.column_stack(\n",
    "        (\n",
    "            note_array[sort_idx]['onset'],\n",
    "            chromatic_pitch_from_midi(note_array[sort_idx]['midi_pitch']),\n",
    "        )\n",
    "    )\n",
    "\n",
    "    chroma_array = compute_chroma_array(sorted_ocp=sorted_ocp)\n",
    "    chroma_vector_array = compute_chroma_vector_array(chroma_array, K_pre, K_post)\n",
    "    morph_array = compute_morph_array(chroma_array, chroma_vector_array)\n",
    "\n",
    "    return compute_morphetic_pitch(sorted_ocp, morph_array)"
   ]
  },
  {
   "cell_type": "code",
   "execution_count": 18,
   "metadata": {},
   "outputs": [],
   "source": [
    "morphetic_pitches = np.array(morphetic_pitch_array(note_array), dtype=[('morphetic_pitch', 'i4')])\n",
    "all_note_info = np.lib.recfunctions.merge_arrays((note_array, morphetic_pitches), flatten=True)"
   ]
  },
  {
   "cell_type": "markdown",
   "metadata": {},
   "source": [
    "### Write note array to csv"
   ]
  },
  {
   "cell_type": "code",
   "execution_count": null,
   "metadata": {},
   "outputs": [],
   "source": [
    "all_note_info['onset']"
   ]
  },
  {
   "cell_type": "code",
   "execution_count": null,
   "metadata": {},
   "outputs": [],
   "source": [
    "all_note_info['midi_pitch']"
   ]
  },
  {
   "cell_type": "code",
   "execution_count": null,
   "metadata": {},
   "outputs": [],
   "source": [
    "all_note_info['morphetic_pitch']"
   ]
  },
  {
   "cell_type": "code",
   "execution_count": null,
   "metadata": {},
   "outputs": [],
   "source": [
    "all_note_info['duration']"
   ]
  },
  {
   "cell_type": "code",
   "execution_count": null,
   "metadata": {},
   "outputs": [],
   "source": [
    "all_note_info['staff']"
   ]
  },
  {
   "cell_type": "code",
   "execution_count": null,
   "metadata": {},
   "outputs": [],
   "source": [
    "all_note_info['measure']"
   ]
  },
  {
   "cell_type": "code",
   "execution_count": 16,
   "metadata": {},
   "outputs": [],
   "source": [
    "# exercise for the reader"
   ]
  },
  {
   "cell_type": "code",
   "execution_count": null,
   "metadata": {},
   "outputs": [],
   "source": []
  }
 ],
 "metadata": {
  "kernelspec": {
   "display_name": "Python 3",
   "language": "python",
   "name": "python3"
  },
  "language_info": {
   "codemirror_mode": {
    "name": "ipython",
    "version": 3
   },
   "file_extension": ".py",
   "mimetype": "text/x-python",
   "name": "python",
   "nbconvert_exporter": "python",
   "pygments_lexer": "ipython3",
   "version": "3.12.7"
  }
 },
 "nbformat": 4,
 "nbformat_minor": 2
}
